{
 "cells": [
  {
   "cell_type": "code",
   "execution_count": 4,
   "id": "looking-facing",
   "metadata": {},
   "outputs": [],
   "source": [
    "import pandas as pd\n",
    "import numpy as np\n",
    "from matplotlib import pyplot as plt\n",
    "import seaborn as sns\n",
    "import ipywidgets as widgets\n",
    "import csv"
   ]
  },
  {
   "cell_type": "code",
   "execution_count": 60,
   "id": "familiar-seating",
   "metadata": {},
   "outputs": [
    {
     "name": "stderr",
     "output_type": "stream",
     "text": [
      "<ipython-input-60-ad5d6b715f38>:1: ParserWarning: Falling back to the 'python' engine because the 'c' engine does not support regex separators (separators > 1 char and different from '\\s+' are interpreted as regex); you can avoid this warning by specifying engine='python'.\n",
      "  df_meteo = pd.read_csv(\"C:/Users/namor/Dropbox/Simplon/Programmation/Projet Fil rouge/Data/2016/Météo.csv\", sep='\\s*,\\s*')\n",
      "<ipython-input-60-ad5d6b715f38>:4: ParserWarning: Falling back to the 'python' engine because the 'c' engine does not support regex separators (separators > 1 char and different from '\\s+' are interpreted as regex); you can avoid this warning by specifying engine='python'.\n",
      "  df_pluie = pd.read_csv(\"C:/Users/namor/Dropbox/Simplon/Programmation/Projet Fil rouge/Data/2016/Pluie.csv\", sep='\\s*,\\s*')\n"
     ]
    },
    {
     "data": {
      "text/html": [
       "<div>\n",
       "<style scoped>\n",
       "    .dataframe tbody tr th:only-of-type {\n",
       "        vertical-align: middle;\n",
       "    }\n",
       "\n",
       "    .dataframe tbody tr th {\n",
       "        vertical-align: top;\n",
       "    }\n",
       "\n",
       "    .dataframe thead th {\n",
       "        text-align: right;\n",
       "    }\n",
       "</style>\n",
       "<table border=\"1\" class=\"dataframe\">\n",
       "  <thead>\n",
       "    <tr style=\"text-align: right;\">\n",
       "      <th></th>\n",
       "      <th>Area Code</th>\n",
       "      <th>Year</th>\n",
       "      <th>Temperature C</th>\n",
       "      <th>Rainfall MM</th>\n",
       "    </tr>\n",
       "  </thead>\n",
       "  <tbody>\n",
       "    <tr>\n",
       "      <th>0</th>\n",
       "      <td>2</td>\n",
       "      <td>1991</td>\n",
       "      <td>13</td>\n",
       "      <td>36</td>\n",
       "    </tr>\n",
       "    <tr>\n",
       "      <th>1</th>\n",
       "      <td>2</td>\n",
       "      <td>1992</td>\n",
       "      <td>13</td>\n",
       "      <td>34</td>\n",
       "    </tr>\n",
       "    <tr>\n",
       "      <th>2</th>\n",
       "      <td>2</td>\n",
       "      <td>1993</td>\n",
       "      <td>13</td>\n",
       "      <td>26</td>\n",
       "    </tr>\n",
       "    <tr>\n",
       "      <th>3</th>\n",
       "      <td>2</td>\n",
       "      <td>1994</td>\n",
       "      <td>13</td>\n",
       "      <td>29</td>\n",
       "    </tr>\n",
       "    <tr>\n",
       "      <th>4</th>\n",
       "      <td>2</td>\n",
       "      <td>1995</td>\n",
       "      <td>13</td>\n",
       "      <td>25</td>\n",
       "    </tr>\n",
       "    <tr>\n",
       "      <th>...</th>\n",
       "      <td>...</td>\n",
       "      <td>...</td>\n",
       "      <td>...</td>\n",
       "      <td>...</td>\n",
       "    </tr>\n",
       "    <tr>\n",
       "      <th>5091</th>\n",
       "      <td>181</td>\n",
       "      <td>2012</td>\n",
       "      <td>22</td>\n",
       "      <td>45</td>\n",
       "    </tr>\n",
       "    <tr>\n",
       "      <th>5092</th>\n",
       "      <td>181</td>\n",
       "      <td>2013</td>\n",
       "      <td>22</td>\n",
       "      <td>51</td>\n",
       "    </tr>\n",
       "    <tr>\n",
       "      <th>5093</th>\n",
       "      <td>181</td>\n",
       "      <td>2014</td>\n",
       "      <td>22</td>\n",
       "      <td>51</td>\n",
       "    </tr>\n",
       "    <tr>\n",
       "      <th>5094</th>\n",
       "      <td>181</td>\n",
       "      <td>2015</td>\n",
       "      <td>22</td>\n",
       "      <td>33</td>\n",
       "    </tr>\n",
       "    <tr>\n",
       "      <th>5095</th>\n",
       "      <td>181</td>\n",
       "      <td>2016</td>\n",
       "      <td>22</td>\n",
       "      <td>38</td>\n",
       "    </tr>\n",
       "  </tbody>\n",
       "</table>\n",
       "<p>5096 rows × 4 columns</p>\n",
       "</div>"
      ],
      "text/plain": [
       "      Area Code  Year  Temperature C  Rainfall MM\n",
       "0             2  1991             13           36\n",
       "1             2  1992             13           34\n",
       "2             2  1993             13           26\n",
       "3             2  1994             13           29\n",
       "4             2  1995             13           25\n",
       "...         ...   ...            ...          ...\n",
       "5091        181  2012             22           45\n",
       "5092        181  2013             22           51\n",
       "5093        181  2014             22           51\n",
       "5094        181  2015             22           33\n",
       "5095        181  2016             22           38\n",
       "\n",
       "[5096 rows x 4 columns]"
      ]
     },
     "execution_count": 60,
     "metadata": {},
     "output_type": "execute_result"
    }
   ],
   "source": [
    "df_meteo = pd.read_csv(\"C:/Users/namor/Dropbox/Simplon/Programmation/Projet Fil rouge/Data/2016/Météo.csv\", sep='\\s*,\\s*')\n",
    "df_meteo = df_meteo.groupby(['Country', 'Year'], as_index=False).mean()\n",
    "\n",
    "df_pluie = pd.read_csv(\"C:/Users/namor/Dropbox/Simplon/Programmation/Projet Fil rouge/Data/2016/Pluie.csv\", sep='\\s*,\\s*')\n",
    "df_pluie = df_pluie.groupby(['Country', 'Year'], as_index=False).mean()\n",
    "df_meteo.insert(loc=3, column='Rainfall - (MM)', value=df_pluie['Rainfall - (MM)'])\n",
    "df_meteo.insert(loc=0, column='Area_1', value=df_meteo['Country'])\n",
    "df_meteo = df_meteo.set_index('Area_1')\n",
    "\n",
    "df_pays = pd.read_csv(\"C:/Users/namor/Dropbox/Simplon/Programmation/Projet Fil rouge/Version 2/CSV/Pays.csv\")\n",
    "df_pays.insert(loc=0, column='Area_1', value=df_pays['Area'])\n",
    "df_pays = df_pays.set_index('Area_1')\n",
    "\n",
    "df_meteo = pd.merge(df_meteo, df_pays['Area Code'], how='left', left_index=True, right_index=True)\n",
    "df_meteo[['Area Code']] = df_meteo[['Area Code']].astype(np.int64)\n",
    "df_meteo = df_meteo.rename(columns = {'Country': 'Area', 'Temperature - (Celsius)': 'Temperature C', \"Rainfall - (MM)\": \"Rainfall MM\"})\n",
    "df_meteo[[\"Temperature C\", \"Rainfall MM\"]] = df_meteo[[\"Temperature C\", \"Rainfall MM\"]].round().astype(np.int64)\n",
    "df_meteo = df_meteo.reset_index(drop=True)\n",
    "df_meteo = df_meteo[[\"Area Code\", \"Year\", \"Temperature C\", \"Rainfall MM\"]]\n",
    "\n",
    "# Enregistrer le DataFrame dans un fichier csv\n",
    "df_meteo.to_csv('CSV/Météo.csv', index=False, sep=',', encoding='utf-8-sig')\n",
    "df_meteo"
   ]
  },
  {
   "cell_type": "code",
   "execution_count": 6,
   "id": "distinguished-degree",
   "metadata": {},
   "outputs": [
    {
     "data": {
      "text/plain": [
       "Area Code        0\n",
       "Year             0\n",
       "Temperature C    0\n",
       "Rainfall MM      0\n",
       "dtype: int64"
      ]
     },
     "execution_count": 6,
     "metadata": {},
     "output_type": "execute_result"
    }
   ],
   "source": [
    "df_meteo.isna().sum()"
   ]
  }
 ],
 "metadata": {
  "kernelspec": {
   "display_name": "Python 3",
   "language": "python",
   "name": "python3"
  },
  "language_info": {
   "codemirror_mode": {
    "name": "ipython",
    "version": 3
   },
   "file_extension": ".py",
   "mimetype": "text/x-python",
   "name": "python",
   "nbconvert_exporter": "python",
   "pygments_lexer": "ipython3",
   "version": "3.8.8"
  }
 },
 "nbformat": 4,
 "nbformat_minor": 5
}
