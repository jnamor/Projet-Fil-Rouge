{
 "cells": [
  {
   "cell_type": "code",
   "execution_count": 2,
   "id": "global-complement",
   "metadata": {},
   "outputs": [],
   "source": [
    "import pandas as pd\n",
    "import numpy as np\n",
    "from matplotlib import pyplot as plt\n",
    "import seaborn as sns\n",
    "import ipywidgets as widgets\n",
    "import csv"
   ]
  },
  {
   "cell_type": "code",
   "execution_count": 4,
   "id": "indie-freeze",
   "metadata": {},
   "outputs": [
    {
     "data": {
      "text/html": [
       "<div>\n",
       "<style scoped>\n",
       "    .dataframe tbody tr th:only-of-type {\n",
       "        vertical-align: middle;\n",
       "    }\n",
       "\n",
       "    .dataframe tbody tr th {\n",
       "        vertical-align: top;\n",
       "    }\n",
       "\n",
       "    .dataframe thead th {\n",
       "        text-align: right;\n",
       "    }\n",
       "</style>\n",
       "<table border=\"1\" class=\"dataframe\">\n",
       "  <thead>\n",
       "    <tr style=\"text-align: right;\">\n",
       "      <th></th>\n",
       "      <th>CodeCateg</th>\n",
       "      <th>Catégorie</th>\n",
       "    </tr>\n",
       "  </thead>\n",
       "  <tbody>\n",
       "    <tr>\n",
       "      <th>0</th>\n",
       "      <td>1</td>\n",
       "      <td>Animale</td>\n",
       "    </tr>\n",
       "    <tr>\n",
       "      <th>1</th>\n",
       "      <td>2</td>\n",
       "      <td>Végétale</td>\n",
       "    </tr>\n",
       "    <tr>\n",
       "      <th>2</th>\n",
       "      <td>3</td>\n",
       "      <td>Céréale</td>\n",
       "    </tr>\n",
       "  </tbody>\n",
       "</table>\n",
       "</div>"
      ],
      "text/plain": [
       "   CodeCateg Catégorie\n",
       "0          1   Animale\n",
       "1          2  Végétale\n",
       "2          3   Céréale"
      ]
     },
     "execution_count": 4,
     "metadata": {},
     "output_type": "execute_result"
    }
   ],
   "source": [
    "entite_categorie = pd.DataFrame({'CodeCateg': [1,2,3], 'Catégorie': [\"Animale\",\"Végétale\",\"Céréale\"]})\n",
    "# entite_categorie = entite_categorie.set_index('CodeCateg')\n",
    "\n",
    "# Enregistrer le DataFrame dans un fichier csv\n",
    "# entite_categorie.to_csv('CSV/Catégorie.csv', index=False, encoding=\"utf-8-sig\", quoting=csv.QUOTE_NONNUMERIC)\n",
    "entite_categorie.to_csv('CSV/Catégorie.csv', index=False, sep=',', encoding='latin1')\n",
    "# entite_categorie.to_csv('CSV/Catégorie.csv', index=False, encoding=\"utf-8-sig\")\n",
    "entite_categorie"
   ]
  },
  {
   "cell_type": "code",
   "execution_count": null,
   "id": "civic-cyprus",
   "metadata": {},
   "outputs": [],
   "source": []
  }
 ],
 "metadata": {
  "kernelspec": {
   "display_name": "Python 3",
   "language": "python",
   "name": "python3"
  },
  "language_info": {
   "codemirror_mode": {
    "name": "ipython",
    "version": 3
   },
   "file_extension": ".py",
   "mimetype": "text/x-python",
   "name": "python",
   "nbconvert_exporter": "python",
   "pygments_lexer": "ipython3",
   "version": "3.8.8"
  }
 },
 "nbformat": 4,
 "nbformat_minor": 5
}
